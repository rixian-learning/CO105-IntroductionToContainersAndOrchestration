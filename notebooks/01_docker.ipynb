{
  "cells": [
    {
      "cell_type": "markdown",
      "metadata": {},
      "source": [
        "![](images/logo.png)\n",
        "\n",
        "# Docker"
      ]
    },
    {
      "cell_type": "markdown",
      "metadata": {},
      "source": [
        "## Overview\n",
        "\n",
        "What is Docker? Why do we need it?"
      ]
    },
    {
      "cell_type": "markdown",
      "metadata": {},
      "source": [
        "## Layers, Images, and Containers\n",
        "\n",
        "What are these things?"
      ]
    },
    {
      "cell_type": "markdown",
      "metadata": {},
      "source": [
        "## Dockerfile\n",
        "\n",
        "What is a docker file? \n",
        "\n",
        "### Commands\n",
        "\n",
        "* FROM\n",
        "* RUN\n",
        "* COPY\n",
        "* ENV\n",
        "* WORKDIR\n",
        "* EXPOSE\n",
        "* CMD\n",
        "\n",
        "### Example:\n",
        "\n",
        "```dockerfile\n",
        "FROM apache\n",
        "COPY . /var/www/html\n",
        "```\n",
        "\n",
        "Then build:\n",
        "```bash\n",
        "docker build -t img-static-site-example .\n",
        "```\n",
        "\n",
        "Then run:\n",
        "```bash\n",
        "docker run -it -d -p 8080:80 img-php-apache-example\n",
        "```"
      ]
    }
  ],
  "metadata": {
    "kernelspec": {
      "display_name": ".NET (C#)",
      "language": "C#",
      "name": ".net-csharp"
    },
    "language_info": {
      "file_extension": ".cs",
      "mimetype": "text/x-csharp",
      "name": "C#",
      "pygments_lexer": "csharp",
      "version": "8.0"
    }
  },
  "nbformat": 4,
  "nbformat_minor": 4
}