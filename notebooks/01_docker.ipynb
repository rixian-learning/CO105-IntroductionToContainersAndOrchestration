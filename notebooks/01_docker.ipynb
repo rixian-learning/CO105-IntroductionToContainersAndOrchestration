{
  "cells": [
    {
      "cell_type": "markdown",
      "metadata": {},
      "source": [
        "[this doc on github](https://github.com/rixian-learning/CO105-IntroductionToContainersAndOrchestration/tree/main/notebooks)\n",
        "\n",
        "# Displaying output in a .NET notebook"
      ]
    },
    {
      "cell_type": "markdown",
      "metadata": {},
      "source": [
        "When writing C# in a .NET notebook, the C# scripting language is used, which you might be familiar with from using the C# Interactive window in Visual Studio. This dialect of C# allows you to end a code submission without a semicolon, which tells C# scripting to return the value of the expression.\n",
        "\n",
        "```docker\n",
        "# Copy notebooks\n",
        "\n",
        "COPY ./notebooks/ ${HOME}/notebooks/\n",
        "\n",
        "# Copy package sources\n",
        "\n",
        "COPY ./nuget.config ${HOME}/nuget.config\n",
        "\n",
        "RUN chown -R ${NB_UID} ${HOME}\n",
        "USER ${USER}\n",
        "```"
      ]
    },
    {
      "cell_type": "code",
      "execution_count": 1,
      "metadata": {
        "dotnet_interactive": {
          "language": "csharp"
        }
      },
      "source": [
        "var x = \"Hello!\";\n",
        "display(x);"
      ],
      "outputs": []
    },
    {
      "cell_type": "code",
      "execution_count": 1,
      "metadata": {
        "dotnet_interactive": {
          "language": "csharp"
        }
      },
      "source": [
        "curl -sL https://aka.ms/InstallAzureCLIDeb | bash\n",
        "az login"
      ],
      "outputs": []
    }
  ],
  "metadata": {
    "kernelspec": {
      "display_name": ".NET (C#)",
      "language": "C#",
      "name": ".net-csharp"
    },
    "language_info": {
      "file_extension": ".cs",
      "mimetype": "text/x-csharp",
      "name": "C#",
      "pygments_lexer": "csharp",
      "version": "8.0"
    }
  },
  "nbformat": 4,
  "nbformat_minor": 4
}