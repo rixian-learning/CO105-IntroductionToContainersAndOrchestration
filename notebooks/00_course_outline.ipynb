{
  "cells": [
    {
      "cell_type": "markdown",
      "metadata": {},
      "source": [
        "<img src=\"images/logo.png\" />\n",
        "\n",
        "[this doc on github](https://github.com/rixian-learning/CO105-IntroductionToContainersAndOrchestration/tree/main/notebooks)\n",
        "\n",
        "# Course Outline"
      ]
    },
    {
      "cell_type": "markdown",
      "metadata": {},
      "source": [
        "## Docker\n",
        "\n",
        "1. Overview\n",
        "2. Layers, Images, and Containers\n",
        "3. Dockerfile\n",
        "4. Docker with .NET 5.0\n",
        "5. External Communication\n",
        "6. Docker with ASP.NET Core 5.0\n",
        "7. Tagging\n",
        "8. Container Registries\n",
        "9. Linux vs. Windows"
      ]
    },
    {
      "cell_type": "markdown",
      "metadata": {},
      "source": [
        "## Kubernetes\n",
        "\n",
        "1. What is Kubernetes?\n",
        "2. Problems solved by Kubernetes\n",
        "3. Terminology\n",
        "4. API Server\n",
        "5. Yaml Configuration\n",
        "6. Helm\n",
        "7. Lens"
      ]
    },
    {
      "cell_type": "markdown",
      "metadata": {},
      "source": [
        "&copy; Rixian LLC"
      ]
    }
  ],
  "metadata": {
    "kernelspec": {
      "display_name": ".NET (C#)",
      "language": "C#",
      "name": ".net-csharp"
    },
    "language_info": {
      "file_extension": ".cs",
      "mimetype": "text/x-csharp",
      "name": "C#",
      "pygments_lexer": "csharp",
      "version": "8.0"
    }
  },
  "nbformat": 4,
  "nbformat_minor": 4
}